{
 "cells": [
  {
   "cell_type": "raw",
   "id": "fa660eaa-c86b-43a8-92da-b2e16bf4b0fe",
   "metadata": {},
   "source": [
    "参数确认，提取信号值时候需要确认阈值\n",
    "运行此代码获取参考数值\n",
    "目的：\n",
    "1-去掉明显很小的杂信号\n",
    "2-超过正常的信号暂时先不去掉"
   ]
  },
  {
   "cell_type": "code",
   "execution_count": 2,
   "id": "ab7d717c-c08d-42c3-bc40-03ec3fa9a885",
   "metadata": {},
   "outputs": [],
   "source": [
    "# # parameters\n",
    "# TOPHAT_KERNEL_SIZE = 7\n",
    "# TOPHAT_BREAK = 2000\n",
    "# LOCAL_MAX_ABS_THRE = 11000 # 200\n",
    "# LOCAL_MAX_ABS_THRE_C = {'cy5': 11000, 'TxRed': 11000, 'cy3': 11000, 'FAM': 5000}\n",
    "# INTENSITY_THRE = None # INTENSITY_ABS_THRE should be a little bigger than LOCAL_MAX_ABS_THRE\n",
    "# CAL_SNR = False\n",
    "\n",
    "# # Threshold after extracting points\n",
    "# SUM_THRESHOLD = 44000 # SUM_THRESHOLD should be 4 * INTENSITY_ABS_THRE\n",
    "# G_ABS_THRESHOLD = 55000\n",
    "# G_THRESHOLD = 3 #\n",
    "# G_MAXVALUE = 5 #"
   ]
  },
  {
   "cell_type": "code",
   "execution_count": 1,
   "id": "482efe24",
   "metadata": {},
   "outputs": [],
   "source": [
    "import os\n",
    "import glob\n",
    "import matplotlib.pyplot as plt\n",
    "import numpy as np\n",
    "from tifffile import imread\n",
    "import re\n",
    "\n",
    "def process_image(image_path, output_dir):\n",
    "    \"\"\"处理单个图像文件，生成信号分布图和水平剖面图\"\"\"\n",
    "    # 确保输出目录存在\n",
    "    os.makedirs(output_dir, exist_ok=True)\n",
    "    \n",
    "    # 从文件路径提取基本信息\n",
    "    basename = os.path.splitext(os.path.basename(image_path))[0]\n",
    "    cycle_match = re.search(r'cyc_(\\d+)', basename, re.IGNORECASE)\n",
    "    channel_match = re.search(r'_(DAPI|cy3|cy5|FAM|TxRed)', basename, re.IGNORECASE)\n",
    "    title_base = f\"{cycle_match.group(1)+' ' if cycle_match else ''}{channel_match.group(1).upper() if channel_match else ''}\".strip()\n",
    "    \n",
    "    # 读取图像并处理\n",
    "    print(f\"正在处理: {os.path.basename(image_path)}\")\n",
    "    image = imread(image_path)\n",
    "    output_prefix = os.path.join(output_dir, basename)\n",
    "    \n",
    "    # 信号分布图\n",
    "    plt.figure(figsize=(10, 6))\n",
    "    plt.imshow(image, cmap='gray')\n",
    "    plt.title(f\"{title_base} - Signal Distribution\" if title_base else \"Image Signal Distribution\")\n",
    "    plt.colorbar(label=\"Signal Intensity\")\n",
    "    plt.savefig(f\"{output_prefix}_signal_distribution.png\", dpi=150, bbox_inches='tight')\n",
    "    plt.close()\n",
    "    \n",
    "    # 水平剖面图\n",
    "    plt.figure(figsize=(10, 4))\n",
    "    plt.plot(np.mean(image, axis=0), label=\"Horizontal Profile\")\n",
    "    plt.title(f\"{title_base} - Horizontal Profile\" if title_base else \"Horizontal Signal Intensity Profile\")\n",
    "    plt.xlabel(\"X Position\")\n",
    "    plt.ylabel(\"Signal Intensity\")\n",
    "    plt.legend()\n",
    "    plt.savefig(f\"{output_prefix}_horizontal_profile.png\", dpi=150, bbox_inches='tight')\n",
    "    plt.close()\n",
    "    \n",
    "    return f\"{output_prefix}_signal_distribution.png\", f\"{output_prefix}_horizontal_profile.png\"\n",
    "\n",
    "def process_all_images(input_dir, output_dir):\n",
    "    \"\"\"处理输入目录中的所有TIFF图像\"\"\"\n",
    "    # 确保输出目录存在\n",
    "    os.makedirs(output_dir, exist_ok=True)\n",
    "    \n",
    "    # 获取所有TIFF文件\n",
    "    tif_files = glob.glob(os.path.join(input_dir, \"*.tif\"))\n",
    "    \n",
    "    if not tif_files:\n",
    "        print(f\"在 {input_dir} 中没有找到TIFF文件\")\n",
    "        return\n",
    "    \n",
    "    print(f\"找到 {len(tif_files)} 个TIFF文件，开始处理...\")\n",
    "    \n",
    "    # 处理每个文件\n",
    "    results = []\n",
    "    for file_path in tif_files:\n",
    "        try:\n",
    "            dist_path, profile_path = process_image(file_path, output_dir)\n",
    "            results.append((file_path, dist_path, profile_path))\n",
    "        except Exception as e:\n",
    "            print(f\"处理 {os.path.basename(file_path)} 时出错: {str(e)}\")\n",
    "    \n",
    "    # 打印结果摘要\n",
    "    print(\"\\n处理完成！结果摘要:\")\n",
    "    for file_path, dist_path, profile_path in results:\n",
    "        print(f\"- 原始文件: {os.path.basename(file_path)}\")\n",
    "        print(f\"  信号分布图: {os.path.basename(dist_path)}\")\n",
    "        print(f\"  水平剖面图: {os.path.basename(profile_path)}\")\n",
    "    \n",
    "    return results"
   ]
  },
  {
   "cell_type": "code",
   "execution_count": 3,
   "id": "808196c8",
   "metadata": {},
   "outputs": [
    {
     "name": "stdout",
     "output_type": "stream",
     "text": [
      "找到 5 个TIFF文件，开始处理...\n",
      "正在处理: cyc_1_cy5.tif\n",
      "正在处理: cyc_1_DAPI.tif\n",
      "正在处理: cyc_1_FAM.tif\n",
      "正在处理: cyc_1_TxRed.tif\n"
     ]
    },
    {
     "name": "stderr",
     "output_type": "stream",
     "text": [
      "<tifffile.TiffFile 'img-stitched-1.tif'> contains no pages\n"
     ]
    },
    {
     "name": "stdout",
     "output_type": "stream",
     "text": [
      "正在处理: img-stitched-1.tif\n",
      "处理 img-stitched-1.tif 时出错: Invalid shape (0,) for image data\n",
      "\n",
      "处理完成！结果摘要:\n",
      "- 原始文件: cyc_1_cy5.tif\n",
      "  信号分布图: cyc_1_cy5_signal_distribution.png\n",
      "  水平剖面图: cyc_1_cy5_horizontal_profile.png\n",
      "- 原始文件: cyc_1_DAPI.tif\n",
      "  信号分布图: cyc_1_DAPI_signal_distribution.png\n",
      "  水平剖面图: cyc_1_DAPI_horizontal_profile.png\n",
      "- 原始文件: cyc_1_FAM.tif\n",
      "  信号分布图: cyc_1_FAM_signal_distribution.png\n",
      "  水平剖面图: cyc_1_FAM_horizontal_profile.png\n",
      "- 原始文件: cyc_1_TxRed.tif\n",
      "  信号分布图: cyc_1_TxRed_signal_distribution.png\n",
      "  水平剖面图: cyc_1_TxRed_horizontal_profile.png\n"
     ]
    },
    {
     "data": {
      "image/png": "[encoded data removed]",
      "text/plain": [
       "<Figure size 1000x600 with 1 Axes>"
      ]
     },
     "metadata": {},
     "output_type": "display_data"
    }
   ],
   "source": [
    "# 使用示例\n",
    "if __name__ == \"__main__\":\n",
    "    # 设置输入和输出目录\n",
    "    input_dir = \"D:/3_PRISM/20251021_2dmouse_huanglab/20220918_PRISM_Brain_30plex_DAPI_processed/stitched/\"\n",
    "    output_dir = \"D:/3_PRISM/20251021_2dmouse_huanglab/20220918_PRISM_Brain_30plex_DAPI_processed/\"\n",
    "    \n",
    "    # 处理所有图像\n",
    "    process_all_images(input_dir, output_dir)"
   ]
  }
 ],
 "metadata": {
  "kernelspec": {
   "display_name": "prism",
   "language": "python",
   "name": "python3"
  },
  "language_info": {
   "codemirror_mode": {
    "name": "ipython",
    "version": 3
   },
   "file_extension": ".py",
   "mimetype": "text/x-python",
   "name": "python",
   "nbconvert_exporter": "python",
   "pygments_lexer": "ipython3",
   "version": "3.8.20"
  }
 },
 "nbformat": 4,
 "nbformat_minor": 5
}
